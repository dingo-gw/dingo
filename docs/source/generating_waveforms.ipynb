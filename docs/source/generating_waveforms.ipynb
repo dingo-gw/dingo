{
 "cells": [
  {
   "cell_type": "markdown",
   "id": "ccdbded0-ea49-43c2-8455-633a25914ed7",
   "metadata": {},
   "source": [
    "# Generating waveforms\n",
    "\n",
    "Training data for Dingo consist of pairs of parameters $\\theta$ and corresponding simulated strain data sets $d_I$, where $I$ runs over the GW interferometers (L1, H1, V1, etc.). Additionally, when conditioning on detector noise properties, data also include noise context (the PSD $S_{\\text{n},I}$). Strain data sets are of the form\n",
    "\n",
    "$$\n",
    "d_I = h_I(\\theta) + n_I,\n",
    "$$\n",
    "\n",
    "where $h_I(\\theta)$ is a *signal waveform* (provided by a waveform model) and $n_I$ is a *noise realization* (stationary and Gaussian, consistent with $S_{\\text{n}, I}$).\n",
    "\n",
    "## Data domain\n",
    "\n",
    "At present, Dingo works entirely with frequency domain data. Although NPE is very flexible and could in principle learn to interpret data in any representation, FD data are especially convenient because (1) stationary Gaussian noise is independent in each frequency bin, so noise generation is straightforward, (2) time shifts take a simple form, enabling improved data augmentation, and (3) the noise context is already in FD. Other domains could be useful in the future, however, so the code is written in a way that the domain could be adapted.\n",
    "\n",
    "The domain is specified by instantiating a `FrequencyDomain`,"
   ]
  },
  {
   "cell_type": "code",
   "execution_count": 4,
   "id": "cbd89771-00c8-40f0-8348-0f1f6f065ec4",
   "metadata": {},
   "outputs": [],
   "source": [
    "from dingo.gw.domains import FrequencyDomain\n",
    "domain = FrequencyDomain(f_min=20.0, f_max=1024.0, delta_f=0.125)"
   ]
  },
  {
   "cell_type": "markdown",
   "id": "c6e07d0b-eaec-436a-9f94-f8da922e5c19",
   "metadata": {},
   "source": [
    "Derived class properties include, e.g., the frequency grid. Frequency arrays run from 0 to `f_max`, as is standard for GW data analysis software."
   ]
  },
  {
   "cell_type": "code",
   "execution_count": 7,
   "id": "76fb4264-6387-43be-bfb4-098d07a4400f",
   "metadata": {},
   "outputs": [
    {
     "data": {
      "text/plain": [
       "array([0.000000e+00, 1.250000e-01, 2.500000e-01, ..., 1.023750e+03,\n",
       "       1.023875e+03, 1.024000e+03], dtype=float32)"
      ]
     },
     "execution_count": 7,
     "metadata": {},
     "output_type": "execute_result"
    }
   ],
   "source": [
    "domain.sample_frequencies"
   ]
  },
  {
   "cell_type": "markdown",
   "id": "223b7c48-314e-41c0-a351-2c1ac906cd90",
   "metadata": {
    "tags": []
   },
   "source": [
    "```{note}\n",
    "The window factor $w$ used when FFTing from time domain data is also stored within the domain, in `domain.window_factor`. This enters into the standard deviation of white noise in each frequency bin, `domain.noise_std`. In frequency domain, this is given by $\\sqrt{w/4\\delta f}$.\n",
    "```\n",
    "\n",
    "Various class methods also act on data, to perform operations such as zeroing below `f_min`, truncating above `f_max`, or applying a time shift:\n",
    "\n",
    "```{eval-rst}\n",
    ".. autoclass:: dingo.gw.domains.FrequencyDomain\n",
    "    :members:\n",
    "```"
   ]
  },
  {
   "attachments": {},
   "cell_type": "markdown",
   "id": "8e3be82f-5213-402a-8c4b-e2b3c568cbad",
   "metadata": {},
   "source": [
    "## Waveform generator\n",
    "\n",
    "Waveforms are generated using the `WaveformGenerator` class (or its subclass `NewInterfaceWaveformGenerator`, for employing the new LIGO waveform interface, needed for some approximants). This depends on a `Domain` as well as a waveform approximant and a reference frequency `f_ref`. In the backend, the `WaveformGenerator` class calls [LALSimulation](https://lscsoft.docs.ligo.org/lalsuite/lalsimulation/) functions (typically `SimInspiralFD`) via the SWIG-Python interface. For time domain waveforms, `SimInspiralFD` takes care of FFTing to frequency domain. The `NewInterfaceWaveformGenerator` class calls the [gwsignal]() module, a Python interface recently implemented in LALSimulation, which is needed for employing some of the latest waveform approximants, as the `SEOBNRv5HM` and `SEOBNRv5PHM`. "
   ]
  },
  {
   "cell_type": "code",
   "execution_count": 12,
   "id": "c11d621d-a2e8-4cb5-bc1c-88188f53e41c",
   "metadata": {},
   "outputs": [],
   "source": [
    "from dingo.gw.waveform_generator import WaveformGenerator #, NewInterfaceWaveformGenerator\n",
    "\n",
    "wfg = WaveformGenerator(approximant='IMRPhenomXPHM', domain=domain, f_ref=20.0)\n",
    "# wfg = NewInterfaceWaveformGenerator(approximant='SEOBNRv5PHM', domain=domain, f_ref=20.0)"
   ]
  },
  {
   "cell_type": "markdown",
   "id": "1e93275f-2176-436c-8729-da183b27efbf",
   "metadata": {},
   "source": [
    "To generate a waveform we first need to choose parameters. Here we sample parameters from a `bilby.core.prior.PriorDict`. We use the default Dingo intrinsic prior."
   ]
  },
  {
   "cell_type": "code",
   "execution_count": 10,
   "id": "b794fe91-d36f-4a11-ac8b-731084ededfe",
   "metadata": {},
   "outputs": [
    {
     "data": {
      "text/plain": [
       "{'mass_1': Constraint(minimum=10.0, maximum=80.0, name=None, latex_label=None, unit=None),\n",
       " 'mass_2': Constraint(minimum=10.0, maximum=80.0, name=None, latex_label=None, unit=None),\n",
       " 'mass_ratio': UniformInComponentsMassRatio(minimum=0.125, maximum=1.0, name='mass_ratio', latex_label='$q$', unit=None, boundary=None),\n",
       " 'chirp_mass': UniformInComponentsChirpMass(minimum=25.0, maximum=100.0, name='chirp_mass', latex_label='$\\\\mathcal{M}$', unit=None, boundary=None),\n",
       " 'luminosity_distance': DeltaFunction(peak=1000.0, name=None, latex_label=None, unit=None),\n",
       " 'theta_jn': Sine(minimum=0.0, maximum=3.141592653589793, name=None, latex_label=None, unit=None, boundary=None),\n",
       " 'phase': Uniform(minimum=0.0, maximum=6.283185307179586, name=None, latex_label=None, unit=None, boundary='periodic'),\n",
       " 'a_1': Uniform(minimum=0.0, maximum=0.99, name=None, latex_label=None, unit=None, boundary=None),\n",
       " 'a_2': Uniform(minimum=0.0, maximum=0.99, name=None, latex_label=None, unit=None, boundary=None),\n",
       " 'tilt_1': Sine(minimum=0.0, maximum=3.141592653589793, name=None, latex_label=None, unit=None, boundary=None),\n",
       " 'tilt_2': Sine(minimum=0.0, maximum=3.141592653589793, name=None, latex_label=None, unit=None, boundary=None),\n",
       " 'phi_12': Uniform(minimum=0.0, maximum=6.283185307179586, name=None, latex_label=None, unit=None, boundary='periodic'),\n",
       " 'phi_jl': Uniform(minimum=0.0, maximum=6.283185307179586, name=None, latex_label=None, unit=None, boundary='periodic'),\n",
       " 'geocent_time': DeltaFunction(peak=0.0, name=None, latex_label=None, unit=None)}"
      ]
     },
     "execution_count": 10,
     "metadata": {},
     "output_type": "execute_result"
    }
   ],
   "source": [
    "from bilby.core.prior import PriorDict\n",
    "from dingo.gw.prior import default_intrinsic_dict\n",
    "\n",
    "prior = PriorDict(default_intrinsic_dict)\n",
    "prior"
   ]
  },
  {
   "cell_type": "code",
   "execution_count": 13,
   "id": "3da1792f-4459-41fd-b582-ec460ca87337",
   "metadata": {},
   "outputs": [
    {
     "data": {
      "text/plain": [
       "{'mass_ratio': 0.14695196917207412,\n",
       " 'chirp_mass': 26.112413236134643,\n",
       " 'luminosity_distance': 1000.0,\n",
       " 'theta_jn': 1.9825129173309055,\n",
       " 'phase': 4.78240926990441,\n",
       " 'a_1': 0.35849037959950186,\n",
       " 'a_2': 0.9161034403210735,\n",
       " 'tilt_1': 1.809623968430488,\n",
       " 'tilt_2': 1.2974088926184701,\n",
       " 'phi_12': 4.869347100057478,\n",
       " 'phi_jl': 2.4985079021948513,\n",
       " 'geocent_time': 0.0}"
      ]
     },
     "execution_count": 13,
     "metadata": {},
     "output_type": "execute_result"
    }
   ],
   "source": [
    "p = prior.sample()\n",
    "p"
   ]
  },
  {
   "cell_type": "markdown",
   "id": "55d0f7d6-b256-438d-bca3-31fb777f08bb",
   "metadata": {},
   "source": [
    "Finally, we generate the waveform. This is returned as a dictionary, with entries for each polarization. This way of representing a sample is used throughout Dingo, and will be very convenient when applying transforms (to apply extrinsic parameters, add noise, etc.)."
   ]
  },
  {
   "cell_type": "code",
   "execution_count": 23,
   "id": "7260cc7a-5695-483c-b93f-fced55d0ae2f",
   "metadata": {},
   "outputs": [
    {
     "data": {
      "text/plain": [
       "{'h_plus': array([0.+0.j, 0.+0.j, 0.+0.j, ..., 0.+0.j, 0.+0.j, 0.+0.j]),\n",
       " 'h_cross': array([0.+0.j, 0.+0.j, 0.+0.j, ..., 0.+0.j, 0.+0.j, 0.+0.j])}"
      ]
     },
     "execution_count": 23,
     "metadata": {},
     "output_type": "execute_result"
    }
   ],
   "source": [
    "h = wfg.generate_hplus_hcross(p)\n",
    "h"
   ]
  },
  {
   "cell_type": "code",
   "execution_count": 22,
   "id": "2981b324-87cb-434c-ac53-105515b373a1",
   "metadata": {},
   "outputs": [
    {
     "data": {
      "image/png": "[encoded data removed]",
      "text/plain": [
       "<Figure size 432x288 with 1 Axes>"
      ]
     },
     "metadata": {
      "needs_background": "light"
     },
     "output_type": "display_data"
    }
   ],
   "source": [
    "import matplotlib.pyplot as plt\n",
    "plt.plot(domain.sample_frequencies, h['h_plus'].real, label='real')\n",
    "plt.plot(domain.sample_frequencies, h['h_plus'].imag, label='imag')\n",
    "plt.xlim((10,1024))\n",
    "plt.xscale('log')\n",
    "plt.legend()\n",
    "plt.xlabel('f')\n",
    "plt.ylabel(r'$h_+$')\n",
    "plt.show()"
   ]
  },
  {
   "cell_type": "markdown",
   "id": "238b3c86-3578-4637-825c-ed2d76e29a87",
   "metadata": {},
   "source": [
    "Note that the waveform is nonzero slightly below `f_min`. This simply arises from the model implementation in `LALSimulation`. When training networks, input data will be truncated below `f_min`.\n",
    "\n",
    "The complete specification of the `WaveformGenerator` class is given as\n",
    "```{eval-rst}\n",
    ".. autoclass:: dingo.gw.waveform_generator.WaveformGenerator\n",
    "    :members:\n",
    "```"
   ]
  },
  {
   "cell_type": "markdown",
   "id": "75321235-acc1-4641-b083-dab542445d28",
   "metadata": {},
   "source": [
    "### Waveform modes\n",
    "\n",
    "Add later."
   ]
  },
  {
   "cell_type": "markdown",
   "id": "6e785d60-961f-4987-a5f8-eb46f873aff1",
   "metadata": {
    "tags": []
   },
   "source": [
    "\n"
   ]
  }
 ],
 "metadata": {
  "kernelspec": {
   "display_name": "Python 3 (ipykernel)",
   "language": "python",
   "name": "python3"
  },
  "language_info": {
   "codemirror_mode": {
    "name": "ipython",
    "version": 3
   },
   "file_extension": ".py",
   "mimetype": "text/x-python",
   "name": "python",
   "nbconvert_exporter": "python",
   "pygments_lexer": "ipython3",
   "version": "3.9.4"
  }
 },
 "nbformat": 4,
 "nbformat_minor": 5
}
